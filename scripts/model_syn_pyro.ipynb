{
 "cells": [
  {
   "cell_type": "code",
   "execution_count": 1,
   "metadata": {},
   "outputs": [],
   "source": [
    "!pip install -q numpyro@git+https://github.com/pyro-ppl/numpyro\n"
   ]
  },
  {
   "cell_type": "code",
   "execution_count": 2,
   "metadata": {},
   "outputs": [],
   "source": [
    "import os\n",
    "\n",
    "import matplotlib.pyplot as plt\n",
    "import pandas as pd\n",
    "from IPython.display import set_matplotlib_formats\n",
    "\n",
    "import jax.numpy as jnp\n",
    "from jax import random\n",
    "\n",
    "import numpyro\n",
    "import numpyro.distributions as dist\n",
    "from numpyro.contrib.control_flow import scan\n",
    "from numpyro.diagnostics import autocorrelation, hpdi\n",
    "from numpyro.infer import MCMC, NUTS, Predictive\n",
    "\n",
    "if \"NUMPYRO_SPHINXBUILD\" in os.environ:\n",
    "    set_matplotlib_formats(\"svg\")\n",
    "\n",
    "numpyro.set_host_device_count(4)\n",
    "assert numpyro.__version__.startswith(\"0.9.1\")"
   ]
  },
  {
   "cell_type": "code",
   "execution_count": 8,
   "metadata": {},
   "outputs": [
    {
     "data": {
      "text/plain": [
       "5598"
      ]
     },
     "execution_count": 8,
     "metadata": {},
     "output_type": "execute_result"
    }
   ],
   "source": [
    "PATH = \"/D/MIT-WHOI/github_repos/syn_model/data/dfmerged_dailysynenv.csv\"\n",
    "\n",
    "df = pd.read_csv(PATH,index_col = 0)\n",
    "data = df[\"synconc\"].values\n",
    "df.head()\n",
    "len(data)"
   ]
  },
  {
   "cell_type": "code",
   "execution_count": 9,
   "metadata": {},
   "outputs": [],
   "source": [
    "y_train, y_test = jnp.array(data[:1000], dtype=jnp.float32), data[1000:]\n",
    "\n",
    "\n",
    "def sgt(y, seasonality, future=0):\n",
    "    # heuristically, standard derivation of Cauchy prior depends on\n",
    "    # the max value of data\n",
    "    cauchy_sd = jnp.max(y) / 150\n",
    "\n",
    "    # NB: priors' parameters are taken from\n",
    "    # https://github.com/cbergmeir/Rlgt/blob/master/Rlgt/R/rlgtcontrol.R\n",
    "    nu = numpyro.sample(\"nu\", dist.Uniform(2, 20))\n",
    "    powx = numpyro.sample(\"powx\", dist.Uniform(0, 1))\n",
    "    sigma = numpyro.sample(\"sigma\", dist.HalfCauchy(cauchy_sd))\n",
    "    offset_sigma = numpyro.sample(\n",
    "        \"offset_sigma\", dist.TruncatedCauchy(low=1e-10, loc=1e-10, scale=cauchy_sd)\n",
    "    )\n",
    "\n",
    "    coef_trend = numpyro.sample(\"coef_trend\", dist.Cauchy(0, cauchy_sd))\n",
    "    pow_trend_beta = numpyro.sample(\"pow_trend_beta\", dist.Beta(1, 1))\n",
    "    # pow_trend takes values from -0.5 to 1\n",
    "    pow_trend = 1.5 * pow_trend_beta - 0.5\n",
    "    pow_season = numpyro.sample(\"pow_season\", dist.Beta(1, 1))\n",
    "\n",
    "    level_sm = numpyro.sample(\"level_sm\", dist.Beta(1, 2))\n",
    "    s_sm = numpyro.sample(\"s_sm\", dist.Uniform(0, 1))\n",
    "    init_s = numpyro.sample(\"init_s\", dist.Cauchy(0, y[:seasonality] * 0.3))\n",
    "\n",
    "    def transition_fn(carry, t):\n",
    "        level, s, moving_sum = carry\n",
    "        season = s[0] * level**pow_season\n",
    "        exp_val = level + coef_trend * level**pow_trend + season\n",
    "        exp_val = jnp.clip(exp_val, a_min=0)\n",
    "        # use expected vale when forecasting\n",
    "        y_t = jnp.where(t >= N, exp_val, y[t])\n",
    "\n",
    "        moving_sum = (\n",
    "            moving_sum + y[t] - jnp.where(t >= seasonality, y[t - seasonality], 0.0)\n",
    "        )\n",
    "        level_p = jnp.where(t >= seasonality, moving_sum / seasonality, y_t - season)\n",
    "        level = level_sm * level_p + (1 - level_sm) * level\n",
    "        level = jnp.clip(level, a_min=0)\n",
    "\n",
    "        new_s = (s_sm * (y_t - level) / season + (1 - s_sm)) * s[0]\n",
    "        # repeat s when forecasting\n",
    "        new_s = jnp.where(t >= N, s[0], new_s)\n",
    "        s = jnp.concatenate([s[1:], new_s[None]], axis=0)\n",
    "\n",
    "        omega = sigma * exp_val**powx + offset_sigma\n",
    "        y_ = numpyro.sample(\"y\", dist.StudentT(nu, exp_val, omega))\n",
    "\n",
    "        return (level, s, moving_sum), y_\n",
    "\n",
    "    N = y.shape[0]\n",
    "    level_init = y[0]\n",
    "    s_init = jnp.concatenate([init_s[1:], init_s[:1]], axis=0)\n",
    "    moving_sum = level_init\n",
    "    with numpyro.handlers.condition(data={\"y\": y[1:]}):\n",
    "        _, ys = scan(\n",
    "            transition_fn, (level_init, s_init, moving_sum), jnp.arange(1, N + future)\n",
    "        )\n",
    "    if future > 0:\n",
    "        numpyro.deterministic(\"y_forecast\", ys[-future:])"
   ]
  },
  {
   "cell_type": "code",
   "execution_count": 10,
   "metadata": {},
   "outputs": [
    {
     "ename": "NameError",
     "evalue": "name 'nu' is not defined",
     "output_type": "error",
     "traceback": [
      "\u001b[0;31m---------------------------------------------------------------------------\u001b[0m",
      "\u001b[0;31mNameError\u001b[0m                                 Traceback (most recent call last)",
      "\u001b[0;32m<ipython-input-10-cb5d71d20a23>\u001b[0m in \u001b[0;36m<module>\u001b[0;34m\u001b[0m\n\u001b[0;32m----> 1\u001b[0;31m \u001b[0mnumpyro\u001b[0m\u001b[0;34m.\u001b[0m\u001b[0msample\u001b[0m\u001b[0;34m(\u001b[0m\u001b[0;34m\"y\"\u001b[0m\u001b[0;34m,\u001b[0m \u001b[0mdist\u001b[0m\u001b[0;34m.\u001b[0m\u001b[0mStudentT\u001b[0m\u001b[0;34m(\u001b[0m\u001b[0mnu\u001b[0m\u001b[0;34m,\u001b[0m \u001b[0mexp_val\u001b[0m\u001b[0;34m,\u001b[0m \u001b[0momega\u001b[0m\u001b[0;34m)\u001b[0m\u001b[0;34m,\u001b[0m \u001b[0mobs\u001b[0m\u001b[0;34m=\u001b[0m\u001b[0my\u001b[0m\u001b[0;34m[\u001b[0m\u001b[0mt\u001b[0m\u001b[0;34m]\u001b[0m\u001b[0;34m)\u001b[0m\u001b[0;34m\u001b[0m\u001b[0;34m\u001b[0m\u001b[0m\n\u001b[0m",
      "\u001b[0;31mNameError\u001b[0m: name 'nu' is not defined"
     ]
    }
   ],
   "source": [
    "numpyro.sample(\"y\", dist.StudentT(nu, exp_val, omega), obs=y[t])\n"
   ]
  }
 ],
 "metadata": {
  "kernelspec": {
   "display_name": "Python 3",
   "language": "python",
   "name": "python3"
  },
  "language_info": {
   "codemirror_mode": {
    "name": "ipython",
    "version": 3
   },
   "file_extension": ".py",
   "mimetype": "text/x-python",
   "name": "python",
   "nbconvert_exporter": "python",
   "pygments_lexer": "ipython3",
   "version": "3.8.5"
  }
 },
 "nbformat": 4,
 "nbformat_minor": 4
}
