{
 "cells": [
  {
   "cell_type": "code",
   "execution_count": 3,
   "metadata": {},
   "outputs": [
    {
     "name": "stderr",
     "output_type": "stream",
     "text": [
      "\u001b[34m\u001b[1mwandb\u001b[0m: Currently logged in as: \u001b[33mmiraflorista\u001b[0m. Use \u001b[1m`wandb login --relogin`\u001b[0m to force relogin\n",
      "Thread HandlerThread:\n",
      "Traceback (most recent call last):\n",
      "  File \"/home/miras/anaconda3/envs/sklearn/lib/python3.10/site-packages/wandb/sdk/internal/internal_util.py\", line 51, in run\n",
      "    self._run()\n",
      "  File \"/home/miras/anaconda3/envs/sklearn/lib/python3.10/site-packages/wandb/sdk/internal/internal_util.py\", line 102, in _run\n",
      "    self._process(record)\n",
      "  File \"/home/miras/anaconda3/envs/sklearn/lib/python3.10/site-packages/wandb/sdk/internal/internal.py\", line 265, in _process\n",
      "    self._hm.handle(record)\n",
      "  File \"/home/miras/anaconda3/envs/sklearn/lib/python3.10/site-packages/wandb/sdk/internal/handler.py\", line 133, in handle\n",
      "    handler(record)\n",
      "  File \"/home/miras/anaconda3/envs/sklearn/lib/python3.10/site-packages/wandb/sdk/internal/handler.py\", line 143, in handle_request\n",
      "    handler(record)\n",
      "  File \"/home/miras/anaconda3/envs/sklearn/lib/python3.10/site-packages/wandb/sdk/internal/handler.py\", line 672, in handle_request_run_start\n",
      "    run_meta.probe()\n",
      "  File \"/home/miras/anaconda3/envs/sklearn/lib/python3.10/site-packages/wandb/sdk/internal/meta.py\", line 230, in probe\n",
      "    self._setup_git()\n",
      "  File \"/home/miras/anaconda3/envs/sklearn/lib/python3.10/site-packages/wandb/sdk/internal/meta.py\", line 205, in _setup_git\n",
      "    self.data[\"root\"] = self._git.root or self.data[\"root\"] or os.getcwd()\n",
      "  File \"/home/miras/anaconda3/envs/sklearn/lib/python3.10/site-packages/wandb/sdk/lib/git.py\", line 46, in root\n",
      "    return self.repo.git.rev_parse(\"--show-toplevel\")\n",
      "  File \"/home/miras/anaconda3/envs/sklearn/lib/python3.10/site-packages/git/cmd.py\", line 639, in <lambda>\n",
      "    return lambda *args, **kwargs: self._call_process(name, *args, **kwargs)\n",
      "  File \"/home/miras/anaconda3/envs/sklearn/lib/python3.10/site-packages/git/cmd.py\", line 1184, in _call_process\n",
      "    return self.execute(call, **exec_kwargs)\n",
      "  File \"/home/miras/anaconda3/envs/sklearn/lib/python3.10/site-packages/git/cmd.py\", line 984, in execute\n",
      "    raise GitCommandError(redacted_command, status, stderr_value, stdout_value)\n",
      "git.exc.GitCommandError: Cmd('git') failed due to: exit code(128)\n",
      "  cmdline: git rev-parse --show-toplevel\n",
      "  stderr: 'fatal: unsafe repository ('/D/MIT-WHOI/github_repos/syn_model' is owned by someone else)\n",
      "To add an exception for this directory, call:\n",
      "\n",
      "\tgit config --global --add safe.directory /D/MIT-WHOI/github_repos/syn_model'\n"
     ]
    },
    {
     "data": {
      "text/html": [
       "wandb version 0.12.17 is available!  To upgrade, please run:\n",
       " $ pip install wandb --upgrade"
      ],
      "text/plain": [
       "<IPython.core.display.HTML object>"
      ]
     },
     "metadata": {},
     "output_type": "display_data"
    },
    {
     "data": {
      "text/html": [
       "Tracking run with wandb version 0.12.16"
      ],
      "text/plain": [
       "<IPython.core.display.HTML object>"
      ]
     },
     "metadata": {},
     "output_type": "display_data"
    },
    {
     "data": {
      "text/html": [
       "Run data is saved locally in <code>/D/MIT-WHOI/github_repos/syn_model/scripts/wandb/run-20220526_160156-2kldoraa</code>"
      ],
      "text/plain": [
       "<IPython.core.display.HTML object>"
      ]
     },
     "metadata": {},
     "output_type": "display_data"
    },
    {
     "name": "stderr",
     "output_type": "stream",
     "text": [
      "wandb: ERROR Internal wandb error: file data was not synced\n"
     ]
    },
    {
     "data": {
      "text/html": [
       "Syncing run <strong><a href=\"https://wandb.ai/miraflorista/syn_model/runs/2kldoraa\" target=\"_blank\">comic-energy-1</a></strong> to <a href=\"https://wandb.ai/miraflorista/syn_model\" target=\"_blank\">Weights & Biases</a> (<a href=\"https://wandb.me/run\" target=\"_blank\">docs</a>)<br/>"
      ],
      "text/plain": [
       "<IPython.core.display.HTML object>"
      ]
     },
     "metadata": {},
     "output_type": "display_data"
    },
    {
     "data": {
      "text/html": [
       "<button onClick=\"this.nextSibling.style.display='block';this.style.display='none';\">Display W&B run</button><iframe src=\"https://wandb.ai/miraflorista/syn_model/runs/2kldoraa?jupyter=true\" style=\"border:none;width:100%;height:420px;display:none;\"></iframe>"
      ],
      "text/plain": [
       "<wandb.sdk.wandb_run.Run at 0x7f686af40490>"
      ]
     },
     "execution_count": 3,
     "metadata": {},
     "output_type": "execute_result"
    },
    {
     "name": "stderr",
     "output_type": "stream",
     "text": [
      "Exception in thread NetStatThr:\n",
      "Traceback (most recent call last):\n",
      "  File \"/home/miras/anaconda3/envs/sklearn/lib/python3.10/threading.py\", line 1009, in _bootstrap_inner\n",
      "    self.run()\n",
      "  File \"/home/miras/anaconda3/envs/sklearn/lib/python3.10/threading.py\", line 946, in run\n",
      "    self._target(*self._args, **self._kwargs)\n",
      "  File \"/home/miras/anaconda3/envs/sklearn/lib/python3.10/site-packages/wandb/sdk/wandb_run.py\", line 152, in check_network_status\n",
      "    status_response = self._interface.communicate_network_status()\n",
      "  File \"/home/miras/anaconda3/envs/sklearn/lib/python3.10/site-packages/wandb/sdk/interface/interface.py\", line 138, in communicate_network_status\n",
      "    resp = self._communicate_network_status(status)\n",
      "  File \"/home/miras/anaconda3/envs/sklearn/lib/python3.10/site-packages/wandb/sdk/interface/interface_shared.py\", line 405, in _communicate_network_status\n",
      "    resp = self._communicate(req, local=True)\n",
      "  File \"/home/miras/anaconda3/envs/sklearn/lib/python3.10/site-packages/wandb/sdk/interface/interface_shared.py\", line 226, in _communicate\n",
      "    return self._communicate_async(rec, local=local).get(timeout=timeout)\n",
      "  File \"/home/miras/anaconda3/envs/sklearn/lib/python3.10/site-packages/wandb/sdk/interface/interface_shared.py\", line 231, in _communicate_async\n",
      "    raise Exception(\"The wandb backend process has shutdown\")\n",
      "Exception: The wandb backend process has shutdown\n",
      "Exception in thread ChkStopThr:\n",
      "Traceback (most recent call last):\n",
      "  File \"/home/miras/anaconda3/envs/sklearn/lib/python3.10/threading.py\", line 1009, in _bootstrap_inner\n",
      "    self.run()\n",
      "  File \"/home/miras/anaconda3/envs/sklearn/lib/python3.10/threading.py\", line 946, in run\n",
      "    self._target(*self._args, **self._kwargs)\n",
      "  File \"/home/miras/anaconda3/envs/sklearn/lib/python3.10/site-packages/wandb/sdk/wandb_run.py\", line 170, in check_status\n",
      "    status_response = self._interface.communicate_stop_status()\n",
      "  File \"/home/miras/anaconda3/envs/sklearn/lib/python3.10/site-packages/wandb/sdk/interface/interface.py\", line 127, in communicate_stop_status\n",
      "    resp = self._communicate_stop_status(status)\n",
      "  File \"/home/miras/anaconda3/envs/sklearn/lib/python3.10/site-packages/wandb/sdk/interface/interface_shared.py\", line 395, in _communicate_stop_status\n",
      "    resp = self._communicate(req, local=True)\n",
      "  File \"/home/miras/anaconda3/envs/sklearn/lib/python3.10/site-packages/wandb/sdk/interface/interface_shared.py\", line 226, in _communicate\n",
      "    return self._communicate_async(rec, local=local).get(timeout=timeout)\n",
      "  File \"/home/miras/anaconda3/envs/sklearn/lib/python3.10/site-packages/wandb/sdk/interface/interface_shared.py\", line 231, in _communicate_async\n",
      "    raise Exception(\"The wandb backend process has shutdown\")\n",
      "Exception: The wandb backend process has shutdown\n"
     ]
    }
   ],
   "source": [
    "import wandb\n",
    "\n",
    "wandb.init(project=\"syn_model\")"
   ]
  }
 ],
 "metadata": {
  "kernelspec": {
   "display_name": "Python [conda env:sklearn]",
   "language": "python",
   "name": "conda-env-sklearn-py"
  },
  "language_info": {
   "codemirror_mode": {
    "name": "ipython",
    "version": 3
   },
   "file_extension": ".py",
   "mimetype": "text/x-python",
   "name": "python",
   "nbconvert_exporter": "python",
   "pygments_lexer": "ipython3",
   "version": "3.10.4"
  }
 },
 "nbformat": 4,
 "nbformat_minor": 4
}
